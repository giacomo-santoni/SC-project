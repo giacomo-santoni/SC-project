{
 "cells": [
  {
   "cell_type": "markdown",
   "metadata": {},
   "source": [
    "## MACHINE LEARNING METHOD for DAZZLED CAMERAS RECOGNITION"
   ]
  },
  {
   "cell_type": "markdown",
   "metadata": {},
   "source": [
    "### 1. SIMULATED DATA - PREPROCESSING"
   ]
  },
  {
   "cell_type": "markdown",
   "metadata": {},
   "source": [
    "> First of all, here this box allows to download the data from a Google Drive folder. They are saved in *.zip* format, so a function that extracts the files contained is needed."
   ]
  },
  {
   "cell_type": "code",
   "execution_count": 1,
   "metadata": {},
   "outputs": [
    {
     "name": "stdout",
     "output_type": "stream",
     "text": [
      "Downloading...\n",
      "From (uriginal): https://drive.google.com/uc?id=1iu7GaIjlZwAufMWIYBdDNlwbU37Q1Pi_&export=download\n",
      "From (redirected): https://drive.google.com/uc?id=1iu7GaIjlZwAufMWIYBdDNlwbU37Q1Pi_&export=download&confirm=t&uuid=3f943de9-77a3-4d06-8eaa-7a12a7678a58\n",
      "To: /Users/giacomosantoni/Desktop/SC-project/data.zip\n",
      "100%|████████████████████████████████████████| 174M/174M [00:08<00:00, 19.7MB/s]\n"
     ]
    }
   ],
   "source": [
    "import zipfile\n",
    "\n",
    "!gdown \"https://drive.google.com/uc?id=1iu7GaIjlZwAufMWIYBdDNlwbU37Q1Pi_&export=download\"\n",
    "\n",
    "with zipfile.ZipFile(\"./data.zip\", \"r\") as file:\n",
    "    file.extractall()"
   ]
  },
  {
   "cell_type": "markdown",
   "metadata": {},
   "source": [
    "> Here some libraries are imported."
   ]
  },
  {
   "cell_type": "code",
   "execution_count": 2,
   "metadata": {},
   "outputs": [],
   "source": [
    "import matplotlib.pyplot as plt\n",
    "import numpy as np"
   ]
  },
  {
   "cell_type": "markdown",
   "metadata": {},
   "source": [
    "> This is a list of the files that contain simulated data "
   ]
  },
  {
   "cell_type": "code",
   "execution_count": 3,
   "metadata": {},
   "outputs": [],
   "source": [
    "sim_file_list = [\"./data/data1/response1.npy\", \"./data/data2/response2.npy\"]"
   ]
  },
  {
   "cell_type": "markdown",
   "metadata": {},
   "source": [
    "> The **DimensionsData** function summarizes in a dictionary some useful characteristics of the file given as input.<br>\n",
    "> The **load** function loads a _numpy_ file with simulated data. It takes as input the name of the file and it returns a matrix EVENTS(rows)xCAMERAS(cols). It is formed by 32x32 matrices, where each element is the number of photons that hit a pixel. This number isn't an integer since it is extracted from the electronic signal."
   ]
  },
  {
   "cell_type": "code",
   "execution_count": 4,
   "metadata": {},
   "outputs": [],
   "source": [
    "def DimensionsData(fname):\n",
    "    file = np.load(fname)\n",
    "    dimension_data = {\"nr_events\" : len(file), \"nr_pixels\" : len(file[0][0]), \"nr_cams\" : len(file[0]), \"nr_tot_events\" : len(file[0])*len(file)}\n",
    "    return dimension_data"
   ]
  },
  {
   "cell_type": "markdown",
   "metadata": {},
   "source": [
    "> **Preprocessing function**<br>It preprocesses simulated data, taking in input the name of the file to be preprocessed and returns as output an array with all the cameras of all the events. Each element of the array is a matrix 32x32. "
   ]
  },
  {
   "cell_type": "code",
   "execution_count": 5,
   "metadata": {},
   "outputs": [],
   "source": [
    "def Preprocessing(fname):\n",
    "    file = np.load(fname)\n",
    "    dimension_data = DimensionsData(fname)\n",
    "    all_sim_data = file.reshape(dimension_data[\"nr_tot_events\"], dimension_data[\"nr_pixels\"], dimension_data[\"nr_pixels\"])\n",
    "    return all_sim_data"
   ]
  },
  {
   "cell_type": "markdown",
   "metadata": {},
   "source": [
    "### 2. ROOT \"TRUE\" DATA - ROOTPREPROCESSING"
   ]
  },
  {
   "cell_type": "markdown",
   "metadata": {},
   "source": [
    "> List of files that contain the truth relative to the simulated data loaded before. They originally are in _ROOT_ format, thus explaining the recurring of \"root\" prefix in the following notation, and also to distinguish these files from the simulated ones. From these data the labels needed from the neural network will be extracted."
   ]
  },
  {
   "cell_type": "code",
   "execution_count": 6,
   "metadata": {},
   "outputs": [],
   "source": [
    "root_file_list = [\"./data/data1/sensors1.npy\", \"./data/data2/sensors2.npy\"]"
   ]
  },
  {
   "cell_type": "markdown",
   "metadata": {},
   "source": [
    "> **load_root function**<br>It takes in input the name of the _numpy_ file with the MC truth. Then it arranges the data of inner photons in a matrix of dimensions EVENTS(rows)xCAMERAS(cols), where each element is the number of inner photons."
   ]
  },
  {
   "cell_type": "code",
   "execution_count": 7,
   "metadata": {},
   "outputs": [],
   "source": [
    "def load_root(root_fname):\n",
    "    root_file_tr = np.load(root_fname)\n",
    "    root_file = root_file_tr.transpose()\n",
    "    return root_file"
   ]
  },
  {
   "cell_type": "markdown",
   "metadata": {},
   "source": [
    "> The **dataset_parameters** dictionary gathers the parameters used to prepare the dataset."
   ]
  },
  {
   "cell_type": "code",
   "execution_count": 8,
   "metadata": {},
   "outputs": [],
   "source": [
    "dataset_parameters = {\"ratio_thr\" : 0.1, \"sum_thr\" : 40}"
   ]
  },
  {
   "cell_type": "markdown",
   "metadata": {},
   "source": [
    "> The **SumPhotons** function takes in input the name of simulated file and returns the sum of the photons in each camera in that file."
   ]
  },
  {
   "cell_type": "code",
   "execution_count": 9,
   "metadata": {},
   "outputs": [],
   "source": [
    "def SumPhotons(fname):\n",
    "    tot_photons = []\n",
    "    all_sim_data = Preprocessing(fname)\n",
    "    for data in all_sim_data:\n",
    "        sum_ph = np.sum(data)\n",
    "        tot_photons.append(sum_ph)\n",
    "    return tot_photons"
   ]
  },
  {
   "cell_type": "markdown",
   "metadata": {},
   "source": [
    "> The **RootPreprocessing** function takes in input the names of the simulated and _ROOT_ file and returns an array with the \"state\" of the camera (i.e. 0 if not-dazzled, 1 if dazzled). The label criterion is: if $\\frac{N_{inner photons}}{N_{tot photons}} > 0.1$, then the camera is dazzled. To see more details about the choice of this criterion consult the README.md."
   ]
  },
  {
   "cell_type": "code",
   "execution_count": 10,
   "metadata": {},
   "outputs": [],
   "source": [
    "def RootPreprocessing(root_fname,fname):\n",
    "    root_file = load_root(root_fname)\n",
    "    inner_photons_list = root_file.flatten()\n",
    "    tot_photons = SumPhotons(fname)\n",
    "    ratio_thr = dataset_parameters[\"ratio_thr\"]\n",
    "    \n",
    "    labels = []\n",
    "    for i, inner_ph in enumerate(inner_photons_list):\n",
    "        np.seterr(divide='ignore', invalid='ignore')\n",
    "        ratio = inner_ph/tot_photons[i]\n",
    "        if ratio >= ratio_thr:\n",
    "            value = 1\n",
    "        elif ratio < ratio_thr:\n",
    "            value = 0\n",
    "        labels.append(value)\n",
    "    labels = np.asarray(labels)\n",
    "    return labels"
   ]
  },
  {
   "cell_type": "markdown",
   "metadata": {},
   "source": [
    "### 3. DATA REARRANGEMENT"
   ]
  },
  {
   "cell_type": "markdown",
   "metadata": {},
   "source": [
    "> Here libraries needed in this section are imported."
   ]
  },
  {
   "cell_type": "code",
   "execution_count": 11,
   "metadata": {},
   "outputs": [],
   "source": [
    "import tensorflow as tf\n",
    "from tensorflow import keras\n",
    "from keras import layers\n",
    "from sklearn.model_selection import train_test_split"
   ]
  },
  {
   "cell_type": "markdown",
   "metadata": {},
   "source": [
    "> The **Cut** function takes in input the lists of simulated and _ROOT_ files. Its aim is to find the cameras with less than a certain threshold of total photons detected. It returns three objects: \n",
    "> - *indices_to_cut*: list that contains the indices of the number of the events that respect this condition.\n",
    "> - *all_sim_data* and *root_labels*: arrays that contain, respectively, all the simulated and _ROOT_ events. "
   ]
  },
  {
   "cell_type": "code",
   "execution_count": 12,
   "metadata": {},
   "outputs": [],
   "source": [
    "def Cut(root_fname: list, fname: list):\n",
    "    all_sim_data = np.concatenate([Preprocessing(f) for f in fname]) \n",
    "    root_labels = np.concatenate([RootPreprocessing(root_fname[i],fname[i]) for i in range(len(fname))]) \n",
    "\n",
    "    indices_to_cut = []\n",
    "    i = 0\n",
    "    for data in all_sim_data:\n",
    "        if np.sum(data) < dataset_parameters[\"sum_thr\"]:\n",
    "            indices_to_cut.append(i)\n",
    "        i += 1\n",
    "    return indices_to_cut, all_sim_data, root_labels"
   ]
  },
  {
   "cell_type": "markdown",
   "metadata": {},
   "source": [
    "> The **DatasetCut** function takes in input the lists of simulated and _ROOT_ files. It returns two arrays that are *data_cut* and *root_labels_cut*, without the events cut."
   ]
  },
  {
   "cell_type": "code",
   "execution_count": 13,
   "metadata": {},
   "outputs": [],
   "source": [
    "def DatasetCut(root_fname: list, fname: list):\n",
    "    index_to_cut, all_sim_data, root_labels = Cut(root_fname, fname)\n",
    "    all_sim_data_list = list(all_sim_data)\n",
    "    root_labels_list = list(root_labels)\n",
    "    \n",
    "    for i in sorted(index_to_cut, reverse=True):\n",
    "        del all_sim_data_list[i], root_labels_list[i]\n",
    "\n",
    "    data_cut = np.array(all_sim_data_list)\n",
    "    root_labels_cut = np.array(root_labels_list)\n",
    "\n",
    "    data_cut = data_cut.reshape(data_cut.shape[0],32,32,1)\n",
    "\n",
    "    return data_cut, root_labels_cut"
   ]
  },
  {
   "cell_type": "markdown",
   "metadata": {},
   "source": [
    "> The **PrepareData** function splits the dataset in three sub-datasets, using twice the *train_test_split* function: \n",
    "> - train_ds: 72% of the dataset cut\n",
    "> - val_ds: 18% of the dataset cut\n",
    "> - test_ds: 10% of the dataset cut<br>\n",
    ">\n",
    "> and returns all these sub-datasets (arrays of matrices) with the respective labels (arrays of numbers 0/1). "
   ]
  },
  {
   "cell_type": "code",
   "execution_count": 14,
   "metadata": {},
   "outputs": [],
   "source": [
    "def PrepareData(root_fname: list, fname: list):\n",
    "    data_cut, root_labels_cut = DatasetCut(root_fname, fname)\n",
    "    t_ds, test_ds, t_labels, test_labels = train_test_split(data_cut, root_labels_cut, train_size=0.9, random_state=42)\n",
    "    train_ds, val_ds, train_labels, val_labels = train_test_split(t_ds, t_labels, train_size=0.85, random_state=42)\n",
    "\n",
    "    train_ds = np.asarray(train_ds)\n",
    "    val_ds = np.asarray(val_ds)\n",
    "    test_ds = np.asarray(test_ds)\n",
    "\n",
    "    train_ds = train_ds.reshape(train_ds.shape[0], 32, 32,1)\n",
    "    val_ds = val_ds.reshape(val_ds.shape[0], 32, 32, 1)\n",
    "    test_ds = test_ds.reshape(test_ds.shape[0],32,32,1)\n",
    "\n",
    "    return train_ds, val_ds, test_ds, train_labels, val_labels, test_labels"
   ]
  },
  {
   "cell_type": "markdown",
   "metadata": {},
   "source": [
    "> The **FindDazzledCameras** function takes in input two arrays, the first of labels and the second of simulated data. It returns: \n",
    "> - *ev_dazzled_cameras*: list that contains the number of events that corresponds to dazzled cameras\n",
    "> - *dazzled_cameras*: list that contains the dazzled cameras"
   ]
  },
  {
   "cell_type": "code",
   "execution_count": 15,
   "metadata": {},
   "outputs": [],
   "source": [
    "def FindDazzledCameras(labels,sim_data):\n",
    "    i = 0\n",
    "    ev_dazzled_cameras = []\n",
    "    dazzled_cameras = []\n",
    "    for l in labels:\n",
    "        if l == 1:\n",
    "            ev_dazzled_cameras.append(i)\n",
    "        i+=1\n",
    "    for i in ev_dazzled_cameras:\n",
    "        dazzled_cameras.append(sim_data[i])\n",
    "    return ev_dazzled_cameras, dazzled_cameras"
   ]
  },
  {
   "cell_type": "markdown",
   "metadata": {},
   "source": [
    "> The **Augmentation** function takes in input two arrays, the first of labels and the second of simulated data. It returns: \n",
    "> - *augmented_ds*: array that contains the images to add\n",
    "> - *augmented_labels*: list that contains the respective labels"
   ]
  },
  {
   "cell_type": "code",
   "execution_count": 16,
   "metadata": {},
   "outputs": [],
   "source": [
    "def Augmentation(labels, sim_data):\n",
    "    input_shape = [32,32,32,1]\n",
    "    data_augmentation = keras.Sequential()\n",
    "    data_augmentation.add(layers.RandomFlip(\"horizontal\", input_shape=input_shape[1:]))\n",
    "    data_augmentation.add(layers.RandomFlip(\"vertical\"))\n",
    "    data_augmentation.add(layers.RandomRotation(0.2))\n",
    "    \n",
    "    _, dazzled_cameras = FindDazzledCameras(labels,sim_data)\n",
    "\n",
    "    augmented_ds = []\n",
    "    for camera in dazzled_cameras:\n",
    "        for i in range(150):\n",
    "            augmented_image = data_augmentation(camera)\n",
    "            augmented_image_sq = np.squeeze(augmented_image, axis=3)\n",
    "            augmented_ds.append(augmented_image_sq)\n",
    "    augmented_ds = np.asarray(augmented_ds)\n",
    "    augmented_labels = len(augmented_ds)*[1]\n",
    "    return augmented_ds, augmented_labels"
   ]
  },
  {
   "cell_type": "markdown",
   "metadata": {},
   "source": [
    "> The **DatasetWithAugmentation** function takes in input the names of the simulated and _ROOT_ files, and two arrays from each of these files. It returns *train_ds_aug* and *train_labels_aug*, augmented with dazzled cameras."
   ]
  },
  {
   "cell_type": "code",
   "execution_count": 17,
   "metadata": {},
   "outputs": [],
   "source": [
    "def DatasetwithAugmentation(root_fname: list, fname: list, labels, sim_data):\n",
    "    train_ds, _, _,train_labels, _, _ = PrepareData(root_fname, fname)\n",
    "    augmented_ds, augmented_labels = Augmentation(labels, sim_data)\n",
    "    train_ds_aug = np.concatenate((train_ds,augmented_ds),axis=0)\n",
    "    train_labels_aug = np.concatenate((train_labels,augmented_labels),axis=0)\n",
    "    return train_ds_aug, train_labels_aug"
   ]
  },
  {
   "cell_type": "markdown",
   "metadata": {},
   "source": [
    "> The **DatasetWeights** function takes in input two arrays, the first of labels and the second of simulated data and it returns:\n",
    "> - *initial_bias*: $log(\\frac{N_{blind ev}}{N_{not blind ev}})$, useful in the model\n",
    "> - *weights_classes*: dictionary that contains the weights of each class\n",
    "> - *percentage*: dictionary that contains the abundance of each class relative to the total number of events"
   ]
  },
  {
   "cell_type": "code",
   "execution_count": 18,
   "metadata": {},
   "outputs": [],
   "source": [
    "def DatasetWeights(labels, sim_data, labels_cut, sim_data_cut):\n",
    "    ev_dazzled_cameras, _ = FindDazzledCameras(labels, sim_data)\n",
    "\n",
    "    augmented_ds, _ = Augmentation(labels_cut, sim_data_cut)\n",
    "    \n",
    "    nr_blind_ev = len(ev_dazzled_cameras)\n",
    "    nr_tot_ev = len(sim_data_cut) + len(augmented_ds)\n",
    "    nr_not_blind_ev = nr_tot_ev - nr_blind_ev\n",
    "\n",
    "    initial_bias = np.log(nr_blind_ev/nr_not_blind_ev)\n",
    "\n",
    "    weights_0 = (1/nr_not_blind_ev)*(nr_tot_ev/2)\n",
    "    weights_1 = (1/nr_blind_ev)*(nr_tot_ev/2)\n",
    "    weights_classes = {0: weights_0, 1: weights_1}\n",
    "\n",
    "    percentage = {0: nr_not_blind_ev/nr_tot_ev, 1: nr_blind_ev/nr_tot_ev}\n",
    "\n",
    "    return initial_bias, weights_classes, percentage"
   ]
  },
  {
   "cell_type": "markdown",
   "metadata": {},
   "source": [
    "> In the next four boxes some of the previous functions are called."
   ]
  },
  {
   "cell_type": "code",
   "execution_count": 19,
   "metadata": {},
   "outputs": [],
   "source": [
    "data_cut, root_labels_cut = DatasetCut(root_file_list, sim_file_list)"
   ]
  },
  {
   "cell_type": "code",
   "execution_count": 20,
   "metadata": {},
   "outputs": [],
   "source": [
    "train_ds, val_ds, test_ds,train_labels, val_labels,test_labels = PrepareData(root_file_list, sim_file_list)"
   ]
  },
  {
   "cell_type": "code",
   "execution_count": 21,
   "metadata": {},
   "outputs": [],
   "source": [
    "train_ds_aug, train_labels_aug = DatasetwithAugmentation(root_file_list, sim_file_list, root_labels_cut, data_cut)"
   ]
  },
  {
   "cell_type": "code",
   "execution_count": 22,
   "metadata": {},
   "outputs": [],
   "source": [
    "initial_bias, train_weights_classes, train_percentage = DatasetWeights(train_labels_aug, train_ds_aug, root_labels_cut, data_cut)"
   ]
  },
  {
   "cell_type": "markdown",
   "metadata": {},
   "source": [
    "### 4. CNN MODEL"
   ]
  },
  {
   "cell_type": "markdown",
   "metadata": {},
   "source": [
    "> Here libraries needed later in this section are imported."
   ]
  },
  {
   "cell_type": "code",
   "execution_count": 23,
   "metadata": {},
   "outputs": [],
   "source": [
    "from keras import models\n",
    "from sklearn import metrics"
   ]
  },
  {
   "cell_type": "markdown",
   "metadata": {},
   "source": [
    "> The **CNNParameters** dictionary gathers all parameters needed in the model. "
   ]
  },
  {
   "cell_type": "code",
   "execution_count": 24,
   "metadata": {},
   "outputs": [],
   "source": [
    "CNNparameters = {\"batch_size\" : 32, \"epochs\" : 10, \"input_shape\" : [32,32,32,1], \"metric\" : keras.metrics.F1Score(threshold=0.5), \"loss_func\" : tf.keras.losses.BinaryCrossentropy()}"
   ]
  },
  {
   "cell_type": "markdown",
   "metadata": {},
   "source": [
    "> The **Training** function takes in input *train* and *validation* datasets with relative arrays of labels. It returns the CNN model and the history of training.\n",
    "> The model summary can be seen in the output of the next to next box."
   ]
  },
  {
   "cell_type": "code",
   "execution_count": 25,
   "metadata": {},
   "outputs": [],
   "source": [
    "def Training(t_data, t_lab, val_data, val_lab): \n",
    "    output_bias = keras.initializers.Constant(initial_bias)\n",
    "\n",
    "    model = models.Sequential([\n",
    "    layers.Conv2D(32, (3,3), activation='relu',input_shape = CNNparameters[\"input_shape\"][1:]),\n",
    "    layers.MaxPooling2D((2,2)),\n",
    "    layers.Conv2D(64, (3,3), activation='relu'),\n",
    "    layers.MaxPooling2D((2,2)),\n",
    "    layers.Conv2D(128, (3,3), activation='relu'),\n",
    "    layers.MaxPooling2D((2,2)),\n",
    "    layers.Dropout(0.2),\n",
    "    layers.Flatten(),\n",
    "    \n",
    "    layers.Dense(128, activation='relu', bias_initializer=output_bias),\n",
    "    layers.Dense(64, activation='relu'),\n",
    "    layers.Dense(32,activation='relu'),\n",
    "    \n",
    "    layers.Dense(1, activation='sigmoid')\n",
    "    ])\n",
    "\n",
    "    model.compile(optimizer='adam', loss=CNNparameters[\"loss_func\"], metrics=CNNparameters[\"metric\"])\n",
    "    model.summary()\n",
    "\n",
    "    t_lab = t_lab.astype(np.float32)\n",
    "    val_lab = val_lab.astype(np.float32)\n",
    "    history = model.fit(t_data, t_lab, validation_data=(val_data, val_lab), epochs=CNNparameters[\"epochs\"], batch_size=CNNparameters[\"batch_size\"], class_weight=train_weights_classes)\n",
    "    return model, history\n"
   ]
  },
  {
   "cell_type": "code",
   "execution_count": 26,
   "metadata": {},
   "outputs": [
    {
     "name": "stderr",
     "output_type": "stream",
     "text": [
      "WARNING:absl:At this time, the v2.11+ optimizer `tf.keras.optimizers.Adam` runs slowly on M1/M2 Macs, please use the legacy Keras optimizer instead, located at `tf.keras.optimizers.legacy.Adam`.\n"
     ]
    },
    {
     "name": "stdout",
     "output_type": "stream",
     "text": [
      "Model: \"sequential_2\"\n",
      "_________________________________________________________________\n",
      " Layer (type)                Output Shape              Param #   \n",
      "=================================================================\n",
      " conv2d (Conv2D)             (None, 30, 30, 32)        320       \n",
      "                                                                 \n",
      " max_pooling2d (MaxPooling2  (None, 15, 15, 32)        0         \n",
      " D)                                                              \n",
      "                                                                 \n",
      " conv2d_1 (Conv2D)           (None, 13, 13, 64)        18496     \n",
      "                                                                 \n",
      " max_pooling2d_1 (MaxPoolin  (None, 6, 6, 64)          0         \n",
      " g2D)                                                            \n",
      "                                                                 \n",
      " conv2d_2 (Conv2D)           (None, 4, 4, 128)         73856     \n",
      "                                                                 \n",
      " max_pooling2d_2 (MaxPoolin  (None, 2, 2, 128)         0         \n",
      " g2D)                                                            \n",
      "                                                                 \n",
      " dropout (Dropout)           (None, 2, 2, 128)         0         \n",
      "                                                                 \n",
      " flatten (Flatten)           (None, 512)               0         \n",
      "                                                                 \n",
      " dense (Dense)               (None, 128)               65664     \n",
      "                                                                 \n",
      " dense_1 (Dense)             (None, 64)                8256      \n",
      "                                                                 \n",
      " dense_2 (Dense)             (None, 32)                2080      \n",
      "                                                                 \n",
      " dense_3 (Dense)             (None, 1)                 33        \n",
      "                                                                 \n",
      "=================================================================\n",
      "Total params: 168705 (659.00 KB)\n",
      "Trainable params: 168705 (659.00 KB)\n",
      "Non-trainable params: 0 (0.00 Byte)\n",
      "_________________________________________________________________\n"
     ]
    },
    {
     "name": "stdout",
     "output_type": "stream",
     "text": [
      "Epoch 1/10\n",
      "4163/4163 [==============================] - 48s 11ms/step - loss: 0.0404 - f1_score: 0.9873 - val_loss: 0.0215 - val_f1_score: 0.5053\n",
      "Epoch 2/10\n",
      "4163/4163 [==============================] - 44s 10ms/step - loss: 0.0179 - f1_score: 0.9957 - val_loss: 0.0164 - val_f1_score: 0.5962\n",
      "Epoch 3/10\n",
      "4163/4163 [==============================] - 45s 11ms/step - loss: 0.0169 - f1_score: 0.9961 - val_loss: 0.0166 - val_f1_score: 0.5487\n",
      "Epoch 4/10\n",
      "4163/4163 [==============================] - 48s 12ms/step - loss: 0.0313 - f1_score: 0.9926 - val_loss: 0.0133 - val_f1_score: 0.6742\n",
      "Epoch 5/10\n",
      "4163/4163 [==============================] - 47s 11ms/step - loss: 0.0179 - f1_score: 0.9962 - val_loss: 0.0210 - val_f1_score: 0.5439\n",
      "Epoch 6/10\n",
      "4163/4163 [==============================] - 50s 12ms/step - loss: 0.0181 - f1_score: 0.9959 - val_loss: 0.0217 - val_f1_score: 0.6452\n",
      "Epoch 7/10\n",
      "4163/4163 [==============================] - 47s 11ms/step - loss: 0.0321 - f1_score: 0.9944 - val_loss: 0.0184 - val_f1_score: 0.5800\n",
      "Epoch 8/10\n",
      "4163/4163 [==============================] - 45s 11ms/step - loss: 0.0189 - f1_score: 0.9968 - val_loss: 0.0207 - val_f1_score: 0.5859\n",
      "Epoch 9/10\n",
      "4163/4163 [==============================] - 49s 12ms/step - loss: 0.0310 - f1_score: 0.9948 - val_loss: 0.0345 - val_f1_score: 0.6265\n",
      "Epoch 10/10\n",
      "4163/4163 [==============================] - 48s 11ms/step - loss: 0.0185 - f1_score: 0.9966 - val_loss: 0.0163 - val_f1_score: 0.6353\n"
     ]
    }
   ],
   "source": [
    "model, history = Training(train_ds_aug, train_labels_aug, val_ds, val_labels)"
   ]
  },
  {
   "cell_type": "markdown",
   "metadata": {},
   "source": [
    "### 5. RESULTS"
   ]
  },
  {
   "cell_type": "markdown",
   "metadata": {},
   "source": [
    "> Here the trends of the history performances during the epochs are plotted."
   ]
  },
  {
   "cell_type": "code",
   "execution_count": 27,
   "metadata": {},
   "outputs": [
    {
     "data": {
      "image/png": "[encoded data removed]",
      "text/plain": [
       "<Figure size 800x800 with 2 Axes>"
      ]
     },
     "metadata": {},
     "output_type": "display_data"
    }
   ],
   "source": [
    "f1_score = history.history['f1_score']\n",
    "val_f1_score = history.history['val_f1_score']\n",
    "\n",
    "loss = history.history['loss']\n",
    "val_loss = history.history['val_loss']\n",
    "\n",
    "epochs_range = range(CNNparameters[\"epochs\"])\n",
    "\n",
    "plt.figure(figsize=(8, 8))\n",
    "plt.subplot(2, 1, 1)\n",
    "plt.plot(range(len(f1_score)), f1_score, label='Train')\n",
    "plt.plot(range(len(f1_score)), val_f1_score, label='Validation')\n",
    "plt.legend(loc='lower right')\n",
    "plt.title('Training and Validation F1 Score')\n",
    "\n",
    "plt.subplot(2, 1, 2)\n",
    "plt.plot(range(len(f1_score)), loss, label='Train')\n",
    "plt.plot(range(len(f1_score)), val_loss, label='Validation')\n",
    "plt.legend(loc='upper right')\n",
    "plt.title('Training and Validation Loss')\n",
    "plt.show()"
   ]
  },
  {
   "cell_type": "markdown",
   "metadata": {},
   "source": [
    "> The **Predict** function takes in input an array of data and returns the predictions relative to that array. The values of *predictions* array are between 0 and 1."
   ]
  },
  {
   "cell_type": "code",
   "execution_count": 28,
   "metadata": {},
   "outputs": [],
   "source": [
    "def Predict(array):\n",
    "    predictions = model.predict(array)\n",
    "    predictions = np.squeeze(predictions)\n",
    "    return predictions"
   ]
  },
  {
   "cell_type": "markdown",
   "metadata": {},
   "source": [
    "> The **Approximation** function takes in input the array of *predictions* generated by the _model.predict()_ function and approximate according to the *t_cut* value chosen. *t_cut* can vary, depending if the goal is improving the purity or the efficiency of the classification."
   ]
  },
  {
   "cell_type": "code",
   "execution_count": 29,
   "metadata": {},
   "outputs": [],
   "source": [
    "def Approximation(pred_array, t_cut):\n",
    "    predictions_approx = []\n",
    "    for value in pred_array:\n",
    "        if value >= t_cut:\n",
    "            value_approx = 1\n",
    "        if value < t_cut:\n",
    "            value_approx = 0\n",
    "        predictions_approx.append(value_approx)\n",
    "    predictions_approx = np.asarray(predictions_approx)\n",
    "    return predictions_approx"
   ]
  },
  {
   "cell_type": "markdown",
   "metadata": {},
   "source": [
    "> TEST DATASET RESULTS"
   ]
  },
  {
   "cell_type": "code",
   "execution_count": 30,
   "metadata": {},
   "outputs": [
    {
     "name": "stdout",
     "output_type": "stream",
     "text": [
      "322/322 [==============================] - 1s 4ms/step\n",
      "f1:  0.64\n",
      "precision:  0.8\n",
      "recall:  0.5333333333333333\n"
     ]
    },
    {
     "data": {
      "image/png": "[encoded data removed]",
      "text/plain": [
       "<Figure size 640x480 with 2 Axes>"
      ]
     },
     "metadata": {},
     "output_type": "display_data"
    }
   ],
   "source": [
    "predictions_test = Predict(test_ds)\n",
    "predictions_test_approx = Approximation(predictions_test, 0.5)\n",
    "cm_test = metrics.confusion_matrix(test_labels, predictions_test_approx)\n",
    "F1 = metrics.f1_score(test_labels, predictions_test_approx, average = 'binary')\n",
    "precision = metrics.precision_score(test_labels, predictions_test_approx, average = 'binary')\n",
    "recall = metrics.recall_score(test_labels, predictions_test_approx, average = 'binary')\n",
    "print(\"f1: \", F1)\n",
    "print(\"precision: \", precision)\n",
    "print(\"recall: \",recall)\n",
    "cm_display = metrics.ConfusionMatrixDisplay(cm_test).plot()"
   ]
  },
  {
   "cell_type": "markdown",
   "metadata": {},
   "source": [
    "> In this box all the results and the features of the dataset and of the model (contained in **dataset_parameters** and **CNNparameters**) are printed into a file called *cnn_results.txt*. It accomplishes so by changing the standard output from the original to this created file."
   ]
  },
  {
   "cell_type": "code",
   "execution_count": 31,
   "metadata": {},
   "outputs": [],
   "source": [
    "import sys\n",
    "\n",
    "original_stdout = sys.stdout\n",
    "\n",
    "with open('./cnn_results.txt', 'a') as f:\n",
    "    sys.stdout = f \n",
    "    model.summary()\n",
    "    print(dataset_parameters)\n",
    "    print(CNNparameters)\n",
    "    print('Confusion matrix: ', cm_test)\n",
    "    print(\"F1 score: \", F1)\n",
    "    print(\"Precision: \", precision)\n",
    "    print(\"Recall: \", recall)\n",
    "    sys.stdout = original_stdout "
   ]
  }
 ],
 "metadata": {
  "kernelspec": {
   "display_name": "Python 3",
   "language": "python",
   "name": "python3"
  },
  "language_info": {
   "codemirror_mode": {
    "name": "ipython",
    "version": 3
   },
   "file_extension": ".py",
   "mimetype": "text/x-python",
   "name": "python",
   "nbconvert_exporter": "python",
   "pygments_lexer": "ipython3",
   "version": "3.11.6"
  },
  "orig_nbformat": 4
 },
 "nbformat": 4,
 "nbformat_minor": 2
}
